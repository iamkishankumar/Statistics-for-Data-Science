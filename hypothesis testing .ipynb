{
 "cells": [
  {
   "cell_type": "code",
   "execution_count": 1,
   "id": "c0c05db5",
   "metadata": {},
   "outputs": [],
   "source": [
    "import numpy as np\n",
    "import pandas as pd\n",
    "import matplotlib.pyplot as plt\n",
    "import seaborn as sns\n",
    "import scipy.stats as st\n",
    "from statsmodels.stats.weightstats import ztest as zt"
   ]
  },
  {
   "cell_type": "markdown",
   "id": "bfa17903",
   "metadata": {},
   "source": [
    "# Z-Test"
   ]
  },
  {
   "cell_type": "markdown",
   "id": "8a72b33c",
   "metadata": {},
   "source": [
    "The silicon wafers' target thickness of the integrated circuit is 245 m.\n",
    "A sample of 50 wafers is chosen, and the thickness of each one is determined, resulting in a sample\n",
    "mean thickness of 246.18 m and a sample standard deviation of 3.60 m.\n",
    "Does this data suggest that actual average wafer thickness is something other than the target value?\n"
   ]
  },
  {
   "cell_type": "code",
   "execution_count": 5,
   "id": "3af0d3ff",
   "metadata": {},
   "outputs": [],
   "source": [
    "p_mean = 245\n",
    "s_mean = 246.18\n",
    "s_std = 3.60\n",
    "n = 50"
   ]
  },
  {
   "cell_type": "code",
   "execution_count": null,
   "id": "e2a33e8b",
   "metadata": {},
   "outputs": [],
   "source": [
    "H0 = 245\n",
    "H1 != 245"
   ]
  },
  {
   "cell_type": "markdown",
   "id": "644e6099",
   "metadata": {},
   "source": [
    "sample size is greater than 30 with unknown population variance and normality of the data is unknown"
   ]
  },
  {
   "cell_type": "markdown",
   "id": "04c7a61c",
   "metadata": {},
   "source": [
    "so we go for z-test"
   ]
  },
  {
   "cell_type": "code",
   "execution_count": 4,
   "id": "c16fb93e",
   "metadata": {},
   "outputs": [],
   "source": [
    "se = s_std/np.sqrt(n)"
   ]
  },
  {
   "cell_type": "code",
   "execution_count": 5,
   "id": "bcdc17d9",
   "metadata": {},
   "outputs": [],
   "source": [
    "zscore = (s_mean - p_mean)/se"
   ]
  },
  {
   "cell_type": "code",
   "execution_count": 6,
   "id": "7a287a85",
   "metadata": {},
   "outputs": [
    {
     "data": {
      "text/plain": [
       "2.3177388938892527"
      ]
     },
     "execution_count": 6,
     "metadata": {},
     "output_type": "execute_result"
    }
   ],
   "source": [
    "zscore"
   ]
  },
  {
   "cell_type": "raw",
   "id": "bd28f4a7",
   "metadata": {},
   "source": [
    "this is two tailed test so \n",
    "p value is "
   ]
  },
  {
   "cell_type": "code",
   "execution_count": null,
   "id": "a45b3e54",
   "metadata": {},
   "outputs": [],
   "source": []
  },
  {
   "cell_type": "markdown",
   "id": "a721245e",
   "metadata": {},
   "source": [
    "# "
   ]
  },
  {
   "cell_type": "raw",
   "id": "e9bbe9a3",
   "metadata": {},
   "source": [
    "`Question: The Company by the name Acme Corporation manufactures light bulbs. The CEO of the\n",
    "company claims that an average Acme light bulb lasts for 300 days. So for testing, 15 bulbs are\n",
    "selected by a researcher randomly. An average sample bulb lasts for 290 days, with 50 days of\n",
    "standard deviation. What is the probability that 15 randomly selected bulbs do not have an average\n",
    "life of more than 290 days?\n"
   ]
  },
  {
   "cell_type": "code",
   "execution_count": 10,
   "id": "789f14cb",
   "metadata": {},
   "outputs": [],
   "source": [
    "p_mean = 300\n",
    "s_mean = 290\n",
    "z = 15\n",
    "s_std = 50"
   ]
  },
  {
   "cell_type": "code",
   "execution_count": null,
   "id": "d39a5800",
   "metadata": {},
   "outputs": [],
   "source": [
    "H0 >= 290\n",
    "H1 < 290 "
   ]
  },
  {
   "cell_type": "code",
   "execution_count": 11,
   "id": "27ded0fc",
   "metadata": {},
   "outputs": [],
   "source": [
    "se = s_std/np.sqrt(n)"
   ]
  },
  {
   "cell_type": "code",
   "execution_count": 12,
   "id": "df634fa1",
   "metadata": {},
   "outputs": [],
   "source": [
    "zs = (s_mean - p_mean)/se"
   ]
  },
  {
   "cell_type": "code",
   "execution_count": 14,
   "id": "efbf6fb0",
   "metadata": {},
   "outputs": [
    {
     "data": {
      "text/plain": [
       "-1.4142135623730951"
      ]
     },
     "execution_count": 14,
     "metadata": {},
     "output_type": "execute_result"
    }
   ],
   "source": [
    "zs"
   ]
  },
  {
   "cell_type": "code",
   "execution_count": null,
   "id": "1f3599a7",
   "metadata": {},
   "outputs": [],
   "source": []
  },
  {
   "cell_type": "markdown",
   "id": "75bb9fbc",
   "metadata": {},
   "source": [
    "# "
   ]
  },
  {
   "cell_type": "raw",
   "id": "57891177",
   "metadata": {},
   "source": [
    "The population of all verbal GRE scores are known to have a standard deviation of 8.5. The\n",
    "UW Psychology department hopes to receive applicants with a verbal GRE scores over 210.\n",
    "This year, the mean verbal GRE scores for the 42 applicants was 212.79. Using a value of\n",
    "α = 0.05 is this new mean significantly greater than the desired mean of 210?\n"
   ]
  },
  {
   "cell_type": "code",
   "execution_count": 15,
   "id": "4e106e4e",
   "metadata": {},
   "outputs": [],
   "source": [
    "p_mean = 210\n",
    "s_mean = 212.79\n",
    "n = 42\n",
    "s_std = 8.5\n",
    "alpha = 0.05"
   ]
  },
  {
   "cell_type": "code",
   "execution_count": null,
   "id": "749a69ca",
   "metadata": {},
   "outputs": [],
   "source": [
    "H0 >= 210\n",
    "H1 > 210\n",
    "left tail test"
   ]
  },
  {
   "cell_type": "code",
   "execution_count": 16,
   "id": "7d70d3e9",
   "metadata": {},
   "outputs": [],
   "source": [
    "se = s_std/np.sqrt(n)"
   ]
  },
  {
   "cell_type": "code",
   "execution_count": 17,
   "id": "82e9f5e5",
   "metadata": {},
   "outputs": [],
   "source": [
    "zs = (s_mean - p_mean)/se"
   ]
  },
  {
   "cell_type": "code",
   "execution_count": 18,
   "id": "ede583bb",
   "metadata": {},
   "outputs": [
    {
     "data": {
      "text/plain": [
       "2.1272078292421033"
      ]
     },
     "execution_count": 18,
     "metadata": {},
     "output_type": "execute_result"
    }
   ],
   "source": [
    "zs"
   ]
  },
  {
   "cell_type": "markdown",
   "id": "a46eba97",
   "metadata": {},
   "source": [
    "p_value of z_score is "
   ]
  },
  {
   "cell_type": "raw",
   "id": "a26e4a6d",
   "metadata": {},
   "source": [
    "The P-Value is .017003.\n",
    "\n",
    "The result is significant at p < .05."
   ]
  },
  {
   "cell_type": "code",
   "execution_count": 19,
   "id": "22c78c8c",
   "metadata": {},
   "outputs": [
    {
     "name": "stdout",
     "output_type": "stream",
     "text": [
      "reject null hypo\n"
     ]
    }
   ],
   "source": [
    "p_val = 0.017\n",
    "alpha = 0.05\n",
    "if p_val<alpha:\n",
    "    print(\"reject null hypo\")\n",
    "else:\n",
    "    print(\"fail to reject\")"
   ]
  },
  {
   "cell_type": "code",
   "execution_count": null,
   "id": "5aa9fdef",
   "metadata": {},
   "outputs": [],
   "source": []
  },
  {
   "cell_type": "markdown",
   "id": "2e28047b",
   "metadata": {},
   "source": [
    "# "
   ]
  },
  {
   "cell_type": "raw",
   "id": "3fb9b1d7",
   "metadata": {},
   "source": [
    "Suppose you start up a company that has developed a drug that is supposed to increase IQ.\n",
    "You know that the standard deviation of IQ in the general population is 15. You test your\n",
    "drug on 36 patients and obtain a mean IQ of 97.65. Using an alpha value of 0.05, is this IQ\n",
    "significantly different than the population mean of 100?"
   ]
  },
  {
   "cell_type": "code",
   "execution_count": 20,
   "id": "139c4214",
   "metadata": {},
   "outputs": [],
   "source": [
    "p_mean = 100\n",
    "s_mean = 97.65\n",
    "n = 36\n",
    "s_std = 15"
   ]
  },
  {
   "cell_type": "code",
   "execution_count": null,
   "id": "8c67e479",
   "metadata": {},
   "outputs": [],
   "source": [
    "H0 = 100\n",
    "H1 != 100"
   ]
  },
  {
   "cell_type": "code",
   "execution_count": 21,
   "id": "0b40123a",
   "metadata": {},
   "outputs": [],
   "source": [
    "se = s_std/np.sqrt(n)"
   ]
  },
  {
   "cell_type": "code",
   "execution_count": 22,
   "id": "4e8d88b2",
   "metadata": {},
   "outputs": [],
   "source": [
    "zs = (s_mean - p_mean) / se"
   ]
  },
  {
   "cell_type": "code",
   "execution_count": 23,
   "id": "0ae88d7e",
   "metadata": {},
   "outputs": [
    {
     "data": {
      "text/plain": [
       "-0.9399999999999977"
      ]
     },
     "execution_count": 23,
     "metadata": {},
     "output_type": "execute_result"
    }
   ],
   "source": [
    "zs"
   ]
  },
  {
   "cell_type": "markdown",
   "id": "5e437f6a",
   "metadata": {},
   "source": [
    "p_value of z score is"
   ]
  },
  {
   "cell_type": "code",
   "execution_count": 24,
   "id": "86b4fc67",
   "metadata": {},
   "outputs": [
    {
     "name": "stdout",
     "output_type": "stream",
     "text": [
      "fail to reject\n"
     ]
    }
   ],
   "source": [
    "p_val = 0.34\n",
    "alpha = 0.05\n",
    "if p_val<alpha:\n",
    "    print(\"reject null hypo\")\n",
    "else:\n",
    "    print(\"fail to reject\")"
   ]
  },
  {
   "cell_type": "code",
   "execution_count": null,
   "id": "fd3e909a",
   "metadata": {},
   "outputs": [],
   "source": []
  },
  {
   "cell_type": "markdown",
   "id": "18ceed4d",
   "metadata": {},
   "source": [
    "# "
   ]
  },
  {
   "cell_type": "raw",
   "id": "b76522de",
   "metadata": {},
   "source": [
    "Suppose you want to see if patients with PTSD have higher than normal systolic blood\n",
    "pressure. You sample 25 patients and obtain a sample mean Systolic BP of 131.66 and a\n",
    "sample standard deviation of 22.5352 mm Hg. Using an alpha value of 0.05 is this observed\n",
    "mean greater than a ’normal’ Systolic BP of 120 mm Hg?\n"
   ]
  },
  {
   "cell_type": "code",
   "execution_count": 6,
   "id": "2543cc6a",
   "metadata": {},
   "outputs": [],
   "source": [
    "p_mean = 120\n",
    "s_mean = 131.66\n",
    "n=25\n",
    "s_std = 22.5352\n",
    "alpha = 0.05"
   ]
  },
  {
   "cell_type": "code",
   "execution_count": null,
   "id": "a55b3deb",
   "metadata": {},
   "outputs": [],
   "source": [
    "H0 >= 120 \n",
    "H1 < 120"
   ]
  },
  {
   "cell_type": "raw",
   "id": "e5a428d8",
   "metadata": {},
   "source": [
    "sample size is smaller than 30 with unknown population variance and normality of the data is not given \n",
    "so we go for z test"
   ]
  },
  {
   "cell_type": "code",
   "execution_count": 7,
   "id": "87cf1a7f",
   "metadata": {},
   "outputs": [],
   "source": [
    "se = s_std/np.sqrt(n)"
   ]
  },
  {
   "cell_type": "code",
   "execution_count": 8,
   "id": "475204ae",
   "metadata": {},
   "outputs": [],
   "source": [
    "zscore = (s_mean - p_mean) / se"
   ]
  },
  {
   "cell_type": "code",
   "execution_count": 9,
   "id": "fb557e12",
   "metadata": {},
   "outputs": [
    {
     "data": {
      "text/plain": [
       "2.587063793531896"
      ]
     },
     "execution_count": 9,
     "metadata": {},
     "output_type": "execute_result"
    }
   ],
   "source": [
    "zscore"
   ]
  },
  {
   "cell_type": "code",
   "execution_count": 11,
   "id": "39bf0170",
   "metadata": {},
   "outputs": [
    {
     "name": "stdout",
     "output_type": "stream",
     "text": [
      "reject null hypo\n"
     ]
    }
   ],
   "source": [
    "p_val = 0.004841\n",
    "alpha = 0.05\n",
    "if p_val<alpha:\n",
    "    print(\"reject null hypo\")\n",
    "else:\n",
    "    print(\"fail to reject\")"
   ]
  },
  {
   "cell_type": "code",
   "execution_count": null,
   "id": "69a54087",
   "metadata": {},
   "outputs": [],
   "source": []
  },
  {
   "cell_type": "markdown",
   "id": "d155ebb3",
   "metadata": {},
   "source": [
    "# "
   ]
  },
  {
   "cell_type": "raw",
   "id": "e2df8649",
   "metadata": {},
   "source": [
    "1) Suppose the arousal of hot cats has a population that is normally distributed with a\n",
    "standard deviation of 6. Tomorrow you sample 49 hot cats from this population and obtain\n",
    "a mean arousal of 46.44 and a standard deviation of 5.6968.\n",
    "Using an alpha value of α = 0.01, is this observed mean significantly less than an expected\n",
    "arousal of 47?"
   ]
  },
  {
   "cell_type": "code",
   "execution_count": 27,
   "id": "0bb86310",
   "metadata": {},
   "outputs": [],
   "source": [
    "p_std = 6\n",
    "s_mean = 46.44\n",
    "s_std = 6\n",
    "alpha = 0.01\n",
    "p_mean = 47\n",
    "n = 49"
   ]
  },
  {
   "cell_type": "code",
   "execution_count": 20,
   "id": "1e488cfb",
   "metadata": {},
   "outputs": [],
   "source": [
    "H0 >= 47 \n",
    "H1 <47"
   ]
  },
  {
   "cell_type": "code",
   "execution_count": 28,
   "id": "5b652a13",
   "metadata": {},
   "outputs": [
    {
     "data": {
      "text/plain": [
       "0.8571428571428571"
      ]
     },
     "execution_count": 28,
     "metadata": {},
     "output_type": "execute_result"
    }
   ],
   "source": [
    "se = s_std/np.sqrt(n)\n",
    "se"
   ]
  },
  {
   "cell_type": "code",
   "execution_count": 29,
   "id": "605b65c7",
   "metadata": {},
   "outputs": [],
   "source": [
    "zscore = (s_mean - p_mean) / se"
   ]
  },
  {
   "cell_type": "code",
   "execution_count": 30,
   "id": "046ec225",
   "metadata": {},
   "outputs": [
    {
     "data": {
      "text/plain": [
       "-0.653333333333336"
      ]
     },
     "execution_count": 30,
     "metadata": {},
     "output_type": "execute_result"
    }
   ],
   "source": [
    "zscore"
   ]
  },
  {
   "cell_type": "code",
   "execution_count": 31,
   "id": "fadea4d0",
   "metadata": {},
   "outputs": [],
   "source": [
    "p_val = 0.256"
   ]
  },
  {
   "cell_type": "code",
   "execution_count": 32,
   "id": "c996266f",
   "metadata": {},
   "outputs": [
    {
     "name": "stdout",
     "output_type": "stream",
     "text": [
      "fail to reject\n"
     ]
    }
   ],
   "source": [
    "if p_val<alpha:\n",
    "    print(\"reject null hypo\")\n",
    "else:\n",
    "    print(\"fail to reject\")"
   ]
  },
  {
   "cell_type": "code",
   "execution_count": null,
   "id": "b32c245c",
   "metadata": {},
   "outputs": [],
   "source": []
  },
  {
   "cell_type": "markdown",
   "id": "c9f33010",
   "metadata": {},
   "source": [
    "# "
   ]
  },
  {
   "cell_type": "raw",
   "id": "64b34a36",
   "metadata": {},
   "source": [
    "2) Suppose the jewelry of exams has a population that is normally distributed with\n",
    "a standard deviation of 5. You are walking down the street and sample 9 exams from this\n",
    "population and obtain a mean jewelry of 28.95 and a standard deviation of 6.3802.\n",
    "Using an alpha value of α = 0.01, is this observed mean significantly different than an\n",
    "expected jewelry of 27?\n"
   ]
  },
  {
   "cell_type": "code",
   "execution_count": 33,
   "id": "5ff4509f",
   "metadata": {},
   "outputs": [],
   "source": [
    "p_mean = 27\n",
    "s_mean = 28.95\n",
    "p_std = 5\n",
    "s_std = 6.38\n",
    "alpha = 0.01\n",
    "n = 9"
   ]
  },
  {
   "cell_type": "code",
   "execution_count": null,
   "id": "74472016",
   "metadata": {},
   "outputs": [],
   "source": [
    "H0 = 27\n",
    "H1 != 27 "
   ]
  },
  {
   "cell_type": "code",
   "execution_count": 34,
   "id": "860f8d21",
   "metadata": {},
   "outputs": [],
   "source": [
    "se = p_std/np.sqrt(n)\n"
   ]
  },
  {
   "cell_type": "code",
   "execution_count": 35,
   "id": "1fa83e5a",
   "metadata": {},
   "outputs": [],
   "source": [
    "zscore = (s_mean - p_mean) / se"
   ]
  },
  {
   "cell_type": "code",
   "execution_count": 36,
   "id": "895e9d83",
   "metadata": {},
   "outputs": [
    {
     "data": {
      "text/plain": [
       "1.1699999999999995"
      ]
     },
     "execution_count": 36,
     "metadata": {},
     "output_type": "execute_result"
    }
   ],
   "source": [
    "zscore\n"
   ]
  },
  {
   "cell_type": "code",
   "execution_count": 37,
   "id": "f0439bc8",
   "metadata": {},
   "outputs": [],
   "source": [
    "p_val = 0.246"
   ]
  },
  {
   "cell_type": "code",
   "execution_count": 38,
   "id": "a87606b2",
   "metadata": {},
   "outputs": [
    {
     "name": "stdout",
     "output_type": "stream",
     "text": [
      "fail to reject\n"
     ]
    }
   ],
   "source": [
    "if p_val<alpha:\n",
    "    print(\"reject null hypo\")\n",
    "else:\n",
    "    print(\"fail to reject\")"
   ]
  },
  {
   "cell_type": "code",
   "execution_count": null,
   "id": "1b961dd1",
   "metadata": {},
   "outputs": [],
   "source": []
  },
  {
   "cell_type": "markdown",
   "id": "7e4f7b94",
   "metadata": {},
   "source": [
    "# T-Test"
   ]
  },
  {
   "cell_type": "code",
   "execution_count": null,
   "id": "94a8276a",
   "metadata": {},
   "outputs": [],
   "source": []
  },
  {
   "cell_type": "raw",
   "id": "e361dbf1",
   "metadata": {},
   "source": [
    "Suppose you want to determine if the height of women with fathers 6 feet or taller in our class\n",
    "is significantly different from the average height of women in the US population. According\n",
    "to Wikipedia, the average height of women in the US is 64 inches, but the website does\n",
    "not provide standard deviations. The heights of the 34 women with fathers 6 feet or taller\n",
    "in our class has a mean of 66.62 and a standard deviation of 2.663 inches. Is this mean\n",
    "significantly different from 64 inches? Use an α value of 0.05.\n"
   ]
  },
  {
   "cell_type": "code",
   "execution_count": 39,
   "id": "c74b874c",
   "metadata": {},
   "outputs": [],
   "source": [
    "p_mean = 64\n",
    "s_mean = 66.62\n",
    "n = 34\n",
    "s_std = 2.663\n",
    "alpha = 0.05"
   ]
  },
  {
   "cell_type": "code",
   "execution_count": null,
   "id": "527e2565",
   "metadata": {},
   "outputs": [],
   "source": [
    "H0 = 64\n",
    "H1 != 64"
   ]
  },
  {
   "cell_type": "code",
   "execution_count": null,
   "id": "d2b3228f",
   "metadata": {},
   "outputs": [],
   "source": []
  },
  {
   "cell_type": "code",
   "execution_count": 18,
   "id": "3a6eb82b",
   "metadata": {},
   "outputs": [],
   "source": [
    "############################################################################"
   ]
  },
  {
   "cell_type": "code",
   "execution_count": null,
   "id": "99cdd6b7",
   "metadata": {},
   "outputs": [],
   "source": []
  },
  {
   "cell_type": "markdown",
   "id": "71688966",
   "metadata": {},
   "source": [
    "# Z-Test"
   ]
  },
  {
   "cell_type": "code",
   "execution_count": 4,
   "id": "417b6398",
   "metadata": {},
   "outputs": [],
   "source": [
    "import numpy as np\n",
    "import pandas as pd\n",
    "import scipy.stats as st\n",
    "from statsmodels.stats.weightstats import ztest as zt"
   ]
  },
  {
   "cell_type": "raw",
   "id": "0c0da5fe",
   "metadata": {},
   "source": [
    "3) Suppose the courage of psychologists has a population that is normally distributed with\n",
    "a standard deviation of 10. You decide to sample 57 psychologists from this population\n",
    "and obtain a mean courage of 34.81 and a standard deviation of 9.0579.\n",
    "Using an alpha value of α = 0.05, is this observed mean significantly greater than an\n",
    "expected courage of 34?\n"
   ]
  },
  {
   "cell_type": "code",
   "execution_count": 2,
   "id": "77b10e32",
   "metadata": {},
   "outputs": [],
   "source": [
    "p_std = 10\n",
    "n = 57\n",
    "s_mean = 34.81\n",
    "s_std = 9.0579\n",
    "alpha = 0.05\n",
    "p_mean = 34"
   ]
  },
  {
   "cell_type": "code",
   "execution_count": null,
   "id": "88924cac",
   "metadata": {},
   "outputs": [],
   "source": [
    "H0 >= 34 \n",
    "H1 < 34"
   ]
  },
  {
   "cell_type": "code",
   "execution_count": 3,
   "id": "3b6036c4",
   "metadata": {},
   "outputs": [],
   "source": [
    "se = p_std/np.sqrt(n)"
   ]
  },
  {
   "cell_type": "code",
   "execution_count": 4,
   "id": "e4d2bdf2",
   "metadata": {},
   "outputs": [],
   "source": [
    "zscore = (s_mean - p_mean ) / se"
   ]
  },
  {
   "cell_type": "code",
   "execution_count": 5,
   "id": "ee63b53d",
   "metadata": {},
   "outputs": [
    {
     "data": {
      "text/plain": [
       "0.6115365892569324"
      ]
     },
     "execution_count": 5,
     "metadata": {},
     "output_type": "execute_result"
    }
   ],
   "source": [
    "zscore"
   ]
  },
  {
   "cell_type": "code",
   "execution_count": 7,
   "id": "9c5ae123",
   "metadata": {},
   "outputs": [
    {
     "name": "stdout",
     "output_type": "stream",
     "text": [
      "fail to reject\n"
     ]
    }
   ],
   "source": [
    "p_val = 0.27\n",
    "if p_val<alpha:\n",
    "    print(\"reject null hupy\")\n",
    "else:\n",
    "    print(\"fail to reject\")"
   ]
  },
  {
   "cell_type": "code",
   "execution_count": null,
   "id": "16bb3dcd",
   "metadata": {},
   "outputs": [],
   "source": []
  },
  {
   "cell_type": "markdown",
   "id": "e9505358",
   "metadata": {},
   "source": [
    "#"
   ]
  },
  {
   "cell_type": "raw",
   "id": "b3163042",
   "metadata": {},
   "source": [
    "4) Suppose the speed of quaint weather events has a population that is normally\n",
    "distributed with a standard deviation of 8. One day you sample 44 quaint weather events\n",
    "from this population and obtain a mean speed of 5.4 and a standard deviation of 7.3023.\n",
    "Using an alpha value of α = 0.05, is this observed mean significantly greater than an\n",
    "expected speed of 3?\n"
   ]
  },
  {
   "cell_type": "code",
   "execution_count": 8,
   "id": "e97cf73a",
   "metadata": {},
   "outputs": [],
   "source": [
    "p_std = 8\n",
    "n = 44\n",
    "s_mean = 5.4\n",
    "s_std = 7.30\n",
    "alpha = 0.05\n",
    "p_mean = 3\n"
   ]
  },
  {
   "cell_type": "code",
   "execution_count": null,
   "id": "ad7218ce",
   "metadata": {},
   "outputs": [],
   "source": [
    "H0 >= 3\n",
    "H1 < 3"
   ]
  },
  {
   "cell_type": "code",
   "execution_count": 9,
   "id": "3cbc7034",
   "metadata": {},
   "outputs": [],
   "source": [
    "se = p_std/np.sqrt(n)"
   ]
  },
  {
   "cell_type": "code",
   "execution_count": 10,
   "id": "742725ac",
   "metadata": {},
   "outputs": [],
   "source": [
    "zscore = (s_mean - p_mean) / se"
   ]
  },
  {
   "cell_type": "code",
   "execution_count": 11,
   "id": "61f5aae3",
   "metadata": {},
   "outputs": [
    {
     "data": {
      "text/plain": [
       "1.9899748742132402"
      ]
     },
     "execution_count": 11,
     "metadata": {},
     "output_type": "execute_result"
    }
   ],
   "source": [
    "zscore"
   ]
  },
  {
   "cell_type": "code",
   "execution_count": 12,
   "id": "7a980a25",
   "metadata": {},
   "outputs": [
    {
     "name": "stdout",
     "output_type": "stream",
     "text": [
      "reject null hypo\n"
     ]
    }
   ],
   "source": [
    "p_val = 0.023\n",
    "if p_val<alpha:\n",
    "    print(\"reject null hypo\")\n",
    "else:\n",
    "    print(\"fail to reject\")"
   ]
  },
  {
   "cell_type": "markdown",
   "id": "f1b10b69",
   "metadata": {},
   "source": [
    "it means mean is less than 3"
   ]
  },
  {
   "cell_type": "code",
   "execution_count": null,
   "id": "c903322a",
   "metadata": {},
   "outputs": [],
   "source": []
  },
  {
   "cell_type": "markdown",
   "id": "b44a7879",
   "metadata": {},
   "source": [
    "#"
   ]
  },
  {
   "cell_type": "raw",
   "id": "0b7a054c",
   "metadata": {},
   "source": [
    "5) Suppose the price of fingers has a population that is normally distributed with a\n",
    "standard deviation of 5. For your first year project you sample 36 fingers from this\n",
    "population and obtain a mean price of 66.09 and a standard deviation of 4.6836.\n",
    "Using an alpha value of α = 0.01, is this observed mean significantly different than an\n",
    "expected price of 67?"
   ]
  },
  {
   "cell_type": "code",
   "execution_count": 13,
   "id": "44baa3b5",
   "metadata": {},
   "outputs": [],
   "source": [
    "p_std = 5\n",
    "n = 36\n",
    "s_mean = 66.09\n",
    "s_std = 4.68\n",
    "alpha = 0.01\n",
    "p_mean = 67"
   ]
  },
  {
   "cell_type": "code",
   "execution_count": null,
   "id": "0595c6d6",
   "metadata": {},
   "outputs": [],
   "source": [
    "H0 = 67\n",
    "H1 != 67 "
   ]
  },
  {
   "cell_type": "code",
   "execution_count": 14,
   "id": "9fcb28a8",
   "metadata": {},
   "outputs": [],
   "source": [
    "se = p_std/np.sqrt(n)"
   ]
  },
  {
   "cell_type": "code",
   "execution_count": 15,
   "id": "4ac613a0",
   "metadata": {},
   "outputs": [],
   "source": [
    "zscore = (s_mean - p_mean) / se"
   ]
  },
  {
   "cell_type": "code",
   "execution_count": 16,
   "id": "363521d4",
   "metadata": {},
   "outputs": [
    {
     "data": {
      "text/plain": [
       "-1.0919999999999959"
      ]
     },
     "execution_count": 16,
     "metadata": {},
     "output_type": "execute_result"
    }
   ],
   "source": [
    "zscore"
   ]
  },
  {
   "cell_type": "code",
   "execution_count": 17,
   "id": "457f4ac1",
   "metadata": {},
   "outputs": [
    {
     "name": "stdout",
     "output_type": "stream",
     "text": [
      "fail to reject\n"
     ]
    }
   ],
   "source": [
    "p_val = 0.27\n",
    "if p_val<alpha:\n",
    "    print(\"reject null hypo\")\n",
    "else:\n",
    "    print(\"fail to reject\")"
   ]
  },
  {
   "cell_type": "markdown",
   "id": "2fa53975",
   "metadata": {},
   "source": [
    "it means mean is 67"
   ]
  },
  {
   "cell_type": "code",
   "execution_count": null,
   "id": "964d9bf9",
   "metadata": {},
   "outputs": [],
   "source": []
  },
  {
   "cell_type": "markdown",
   "id": "884dc0e6",
   "metadata": {},
   "source": [
    "############################################"
   ]
  },
  {
   "cell_type": "markdown",
   "id": "68837adc",
   "metadata": {},
   "source": [
    "# T-Test"
   ]
  },
  {
   "cell_type": "raw",
   "id": "62cab6aa",
   "metadata": {},
   "source": [
    "1) Your friend gets you to sample the amplitude of 74 psych 315 students from a population\n",
    "and obtain a mean amplitude of 74.75 and a standard deviation of 6.2287 .\n",
    "Using an alpha value of α = 0.01, is this observed mean significantly less than an expected\n",
    "amplitude of 77?\n",
    "What is the effect size?\n",
    "Is the effect size small, medium or large?"
   ]
  },
  {
   "cell_type": "code",
   "execution_count": 1,
   "id": "e2088f67",
   "metadata": {},
   "outputs": [],
   "source": [
    "s_mean = 74.75\n",
    "s_std = 6.22\n",
    "p_mean = 77\n",
    "n = 74\n",
    "alpha = 0.01\n"
   ]
  },
  {
   "cell_type": "code",
   "execution_count": null,
   "id": "8a69e0d9",
   "metadata": {},
   "outputs": [],
   "source": [
    "H0 <= 77 \n",
    "H1 > 77"
   ]
  },
  {
   "cell_type": "code",
   "execution_count": 2,
   "id": "9e08119d",
   "metadata": {},
   "outputs": [],
   "source": [
    "###################################"
   ]
  },
  {
   "cell_type": "code",
   "execution_count": 3,
   "id": "04a563f2",
   "metadata": {},
   "outputs": [],
   "source": [
    "import seaborn as sns"
   ]
  },
  {
   "cell_type": "code",
   "execution_count": 6,
   "id": "071efcc3",
   "metadata": {},
   "outputs": [],
   "source": [
    "df = pd.read_csv(\"bloodpressure.csv\")"
   ]
  },
  {
   "cell_type": "code",
   "execution_count": 7,
   "id": "ae99eaac",
   "metadata": {},
   "outputs": [
    {
     "data": {
      "text/html": [
       "<div>\n",
       "<style scoped>\n",
       "    .dataframe tbody tr th:only-of-type {\n",
       "        vertical-align: middle;\n",
       "    }\n",
       "\n",
       "    .dataframe tbody tr th {\n",
       "        vertical-align: top;\n",
       "    }\n",
       "\n",
       "    .dataframe thead th {\n",
       "        text-align: right;\n",
       "    }\n",
       "</style>\n",
       "<table border=\"1\" class=\"dataframe\">\n",
       "  <thead>\n",
       "    <tr style=\"text-align: right;\">\n",
       "      <th></th>\n",
       "      <th>patient</th>\n",
       "      <th>sex</th>\n",
       "      <th>agegrp</th>\n",
       "      <th>bp_before</th>\n",
       "      <th>bp_after</th>\n",
       "    </tr>\n",
       "  </thead>\n",
       "  <tbody>\n",
       "    <tr>\n",
       "      <th>0</th>\n",
       "      <td>1</td>\n",
       "      <td>Male</td>\n",
       "      <td>30-45</td>\n",
       "      <td>143</td>\n",
       "      <td>153</td>\n",
       "    </tr>\n",
       "    <tr>\n",
       "      <th>1</th>\n",
       "      <td>2</td>\n",
       "      <td>Male</td>\n",
       "      <td>30-45</td>\n",
       "      <td>163</td>\n",
       "      <td>170</td>\n",
       "    </tr>\n",
       "    <tr>\n",
       "      <th>2</th>\n",
       "      <td>3</td>\n",
       "      <td>Male</td>\n",
       "      <td>30-45</td>\n",
       "      <td>153</td>\n",
       "      <td>168</td>\n",
       "    </tr>\n",
       "    <tr>\n",
       "      <th>3</th>\n",
       "      <td>4</td>\n",
       "      <td>Male</td>\n",
       "      <td>30-45</td>\n",
       "      <td>153</td>\n",
       "      <td>142</td>\n",
       "    </tr>\n",
       "    <tr>\n",
       "      <th>4</th>\n",
       "      <td>5</td>\n",
       "      <td>Male</td>\n",
       "      <td>30-45</td>\n",
       "      <td>146</td>\n",
       "      <td>141</td>\n",
       "    </tr>\n",
       "    <tr>\n",
       "      <th>...</th>\n",
       "      <td>...</td>\n",
       "      <td>...</td>\n",
       "      <td>...</td>\n",
       "      <td>...</td>\n",
       "      <td>...</td>\n",
       "    </tr>\n",
       "    <tr>\n",
       "      <th>115</th>\n",
       "      <td>116</td>\n",
       "      <td>Female</td>\n",
       "      <td>60+</td>\n",
       "      <td>152</td>\n",
       "      <td>152</td>\n",
       "    </tr>\n",
       "    <tr>\n",
       "      <th>116</th>\n",
       "      <td>117</td>\n",
       "      <td>Female</td>\n",
       "      <td>60+</td>\n",
       "      <td>161</td>\n",
       "      <td>152</td>\n",
       "    </tr>\n",
       "    <tr>\n",
       "      <th>117</th>\n",
       "      <td>118</td>\n",
       "      <td>Female</td>\n",
       "      <td>60+</td>\n",
       "      <td>165</td>\n",
       "      <td>174</td>\n",
       "    </tr>\n",
       "    <tr>\n",
       "      <th>118</th>\n",
       "      <td>119</td>\n",
       "      <td>Female</td>\n",
       "      <td>60+</td>\n",
       "      <td>149</td>\n",
       "      <td>151</td>\n",
       "    </tr>\n",
       "    <tr>\n",
       "      <th>119</th>\n",
       "      <td>120</td>\n",
       "      <td>Female</td>\n",
       "      <td>60+</td>\n",
       "      <td>185</td>\n",
       "      <td>163</td>\n",
       "    </tr>\n",
       "  </tbody>\n",
       "</table>\n",
       "<p>120 rows × 5 columns</p>\n",
       "</div>"
      ],
      "text/plain": [
       "     patient     sex agegrp  bp_before  bp_after\n",
       "0          1    Male  30-45        143       153\n",
       "1          2    Male  30-45        163       170\n",
       "2          3    Male  30-45        153       168\n",
       "3          4    Male  30-45        153       142\n",
       "4          5    Male  30-45        146       141\n",
       "..       ...     ...    ...        ...       ...\n",
       "115      116  Female    60+        152       152\n",
       "116      117  Female    60+        161       152\n",
       "117      118  Female    60+        165       174\n",
       "118      119  Female    60+        149       151\n",
       "119      120  Female    60+        185       163\n",
       "\n",
       "[120 rows x 5 columns]"
      ]
     },
     "execution_count": 7,
     "metadata": {},
     "output_type": "execute_result"
    }
   ],
   "source": [
    "df"
   ]
  },
  {
   "cell_type": "code",
   "execution_count": 12,
   "id": "0fd2292f",
   "metadata": {},
   "outputs": [],
   "source": [
    "x=df[\"bp_before\"]"
   ]
  },
  {
   "cell_type": "code",
   "execution_count": 13,
   "id": "30e621f3",
   "metadata": {},
   "outputs": [
    {
     "data": {
      "text/plain": [
       "156.25"
      ]
     },
     "execution_count": 13,
     "metadata": {},
     "output_type": "execute_result"
    }
   ],
   "source": [
    "x1.mean()"
   ]
  },
  {
   "cell_type": "code",
   "execution_count": 14,
   "id": "25b49c42",
   "metadata": {},
   "outputs": [
    {
     "data": {
      "text/plain": [
       "156.45"
      ]
     },
     "execution_count": 14,
     "metadata": {},
     "output_type": "execute_result"
    }
   ],
   "source": [
    "x.mean()"
   ]
  },
  {
   "cell_type": "code",
   "execution_count": null,
   "id": "afe92a46",
   "metadata": {},
   "outputs": [],
   "source": []
  },
  {
   "cell_type": "code",
   "execution_count": 10,
   "id": "dac5aad5",
   "metadata": {},
   "outputs": [],
   "source": [
    "p_mean=x.mean()"
   ]
  },
  {
   "cell_type": "code",
   "execution_count": 11,
   "id": "48fc6b93",
   "metadata": {},
   "outputs": [],
   "source": [
    "x1=df[\"bp_before\"][0:40]"
   ]
  },
  {
   "cell_type": "code",
   "execution_count": 20,
   "id": "f94f810d",
   "metadata": {},
   "outputs": [],
   "source": [
    "z_val,p_val=zt(x1,value=150,alternative=\"two-sided\")"
   ]
  },
  {
   "cell_type": "code",
   "execution_count": 21,
   "id": "b84f294e",
   "metadata": {},
   "outputs": [
    {
     "name": "stdout",
     "output_type": "stream",
     "text": [
      "reject null hypo\n"
     ]
    }
   ],
   "source": [
    "alpha = 0.05\n",
    "if p_val<alpha:\n",
    "    print(\"reject null hypo\")\n",
    "else:\n",
    "    print(\"fail to reject\")"
   ]
  },
  {
   "cell_type": "code",
   "execution_count": null,
   "id": "7da6ebb3",
   "metadata": {},
   "outputs": [],
   "source": []
  },
  {
   "cell_type": "code",
   "execution_count": 22,
   "id": "2f422d1a",
   "metadata": {},
   "outputs": [],
   "source": [
    "y = df[\"bp_after\"]"
   ]
  },
  {
   "cell_type": "code",
   "execution_count": 23,
   "id": "4dd9cef2",
   "metadata": {},
   "outputs": [],
   "source": [
    "y1 = df[\"bp_after\"][0:40]"
   ]
  },
  {
   "cell_type": "code",
   "execution_count": 24,
   "id": "d281c13b",
   "metadata": {},
   "outputs": [
    {
     "data": {
      "text/plain": [
       "4.400000000000006"
      ]
     },
     "execution_count": 24,
     "metadata": {},
     "output_type": "execute_result"
    }
   ],
   "source": [
    "x1.mean() - y1.mean()"
   ]
  },
  {
   "cell_type": "code",
   "execution_count": 26,
   "id": "131f1927",
   "metadata": {},
   "outputs": [],
   "source": [
    "z_val,p_val=zt(x1,y1,value=0,alternative=\"two-sided\")"
   ]
  },
  {
   "cell_type": "code",
   "execution_count": 29,
   "id": "d0997fbb",
   "metadata": {},
   "outputs": [
    {
     "name": "stdout",
     "output_type": "stream",
     "text": [
      "0.15078650190868437\n",
      "fail to reject\n"
     ]
    }
   ],
   "source": [
    "alpha = 0.05\n",
    "print(p_val)\n",
    "if p_val<alpha:\n",
    "    print(\"reject null hypo\")\n",
    "else:\n",
    "    print(\"fail to reject\")"
   ]
  },
  {
   "cell_type": "code",
   "execution_count": null,
   "id": "6057c1ec",
   "metadata": {},
   "outputs": [],
   "source": []
  },
  {
   "cell_type": "markdown",
   "id": "e0fbf9b0",
   "metadata": {},
   "source": [
    "############################"
   ]
  },
  {
   "cell_type": "markdown",
   "id": "ff905d02",
   "metadata": {},
   "source": [
    "# Z-Test"
   ]
  },
  {
   "cell_type": "code",
   "execution_count": 3,
   "id": "f183ea74",
   "metadata": {},
   "outputs": [],
   "source": [
    "import numpy as np\n",
    "import pandas as pd\n",
    "import matplotlib.pyplot as plt\n",
    "import seaborn as sns \n",
    "\n"
   ]
  },
  {
   "cell_type": "code",
   "execution_count": null,
   "id": "1450a24c",
   "metadata": {},
   "outputs": [],
   "source": []
  },
  {
   "cell_type": "code",
   "execution_count": 4,
   "id": "0314b19f",
   "metadata": {},
   "outputs": [
    {
     "data": {
      "text/html": [
       "<div>\n",
       "<style scoped>\n",
       "    .dataframe tbody tr th:only-of-type {\n",
       "        vertical-align: middle;\n",
       "    }\n",
       "\n",
       "    .dataframe tbody tr th {\n",
       "        vertical-align: top;\n",
       "    }\n",
       "\n",
       "    .dataframe thead th {\n",
       "        text-align: right;\n",
       "    }\n",
       "</style>\n",
       "<table border=\"1\" class=\"dataframe\">\n",
       "  <thead>\n",
       "    <tr style=\"text-align: right;\">\n",
       "      <th></th>\n",
       "      <th>patient</th>\n",
       "      <th>sex</th>\n",
       "      <th>agegrp</th>\n",
       "      <th>bp_before</th>\n",
       "      <th>bp_after</th>\n",
       "    </tr>\n",
       "  </thead>\n",
       "  <tbody>\n",
       "    <tr>\n",
       "      <th>0</th>\n",
       "      <td>1</td>\n",
       "      <td>Male</td>\n",
       "      <td>30-45</td>\n",
       "      <td>143</td>\n",
       "      <td>153</td>\n",
       "    </tr>\n",
       "    <tr>\n",
       "      <th>1</th>\n",
       "      <td>2</td>\n",
       "      <td>Male</td>\n",
       "      <td>30-45</td>\n",
       "      <td>163</td>\n",
       "      <td>170</td>\n",
       "    </tr>\n",
       "  </tbody>\n",
       "</table>\n",
       "</div>"
      ],
      "text/plain": [
       "   patient   sex agegrp  bp_before  bp_after\n",
       "0        1  Male  30-45        143       153\n",
       "1        2  Male  30-45        163       170"
      ]
     },
     "execution_count": 4,
     "metadata": {},
     "output_type": "execute_result"
    }
   ],
   "source": [
    "df=pd.read_csv(\"bloodpressure.csv\")\n",
    "df.head(2)"
   ]
  },
  {
   "cell_type": "code",
   "execution_count": 5,
   "id": "d4842158",
   "metadata": {},
   "outputs": [
    {
     "data": {
      "text/plain": [
       "(120, 5)"
      ]
     },
     "execution_count": 5,
     "metadata": {},
     "output_type": "execute_result"
    }
   ],
   "source": [
    "df.shape"
   ]
  },
  {
   "cell_type": "code",
   "execution_count": 6,
   "id": "c9c46fc5",
   "metadata": {},
   "outputs": [
    {
     "name": "stdout",
     "output_type": "stream",
     "text": [
      "<class 'pandas.core.frame.DataFrame'>\n",
      "RangeIndex: 120 entries, 0 to 119\n",
      "Data columns (total 5 columns):\n",
      " #   Column     Non-Null Count  Dtype \n",
      "---  ------     --------------  ----- \n",
      " 0   patient    120 non-null    int64 \n",
      " 1   sex        120 non-null    object\n",
      " 2   agegrp     120 non-null    object\n",
      " 3   bp_before  120 non-null    int64 \n",
      " 4   bp_after   120 non-null    int64 \n",
      "dtypes: int64(3), object(2)\n",
      "memory usage: 4.8+ KB\n"
     ]
    }
   ],
   "source": [
    "df.info()"
   ]
  },
  {
   "cell_type": "code",
   "execution_count": 7,
   "id": "357c3518",
   "metadata": {},
   "outputs": [],
   "source": [
    "import scipy.stats as st\n",
    "import pylab"
   ]
  },
  {
   "cell_type": "code",
   "execution_count": 8,
   "id": "ab88bac0",
   "metadata": {},
   "outputs": [
    {
     "data": {
      "image/png": "[encoded data removed]",
      "text/plain": [
       "<Figure size 432x288 with 1 Axes>"
      ]
     },
     "metadata": {
      "needs_background": "light"
     },
     "output_type": "display_data"
    }
   ],
   "source": [
    "st.probplot(df[\"bp_before\"],dist=\"norm\",plot=pylab);"
   ]
  },
  {
   "cell_type": "code",
   "execution_count": 9,
   "id": "7fdfb033",
   "metadata": {},
   "outputs": [
    {
     "name": "stderr",
     "output_type": "stream",
     "text": [
      "C:\\Users\\dell\\AppData\\Local\\Temp\\ipykernel_3388\\1665899112.py:1: FutureWarning: Dropping of nuisance columns in DataFrame reductions (with 'numeric_only=None') is deprecated; in a future version this will raise TypeError.  Select only valid columns before calling the reduction.\n",
      "  df.skew()\n"
     ]
    },
    {
     "data": {
      "text/plain": [
       "patient      0.000000\n",
       "bp_before    0.554244\n",
       "bp_after     0.393365\n",
       "dtype: float64"
      ]
     },
     "execution_count": 9,
     "metadata": {},
     "output_type": "execute_result"
    }
   ],
   "source": [
    "df.skew()"
   ]
  },
  {
   "cell_type": "code",
   "execution_count": 10,
   "id": "4dba05c0",
   "metadata": {},
   "outputs": [
    {
     "name": "stderr",
     "output_type": "stream",
     "text": [
      "C:\\Users\\dell\\AppData\\Local\\Temp\\ipykernel_3388\\1257127604.py:1: FutureWarning: Dropping of nuisance columns in DataFrame reductions (with 'numeric_only=None') is deprecated; in a future version this will raise TypeError.  Select only valid columns before calling the reduction.\n",
      "  df.kurt()\n"
     ]
    },
    {
     "data": {
      "text/plain": [
       "patient     -1.200000\n",
       "bp_before   -0.438591\n",
       "bp_after    -0.505149\n",
       "dtype: float64"
      ]
     },
     "execution_count": 10,
     "metadata": {},
     "output_type": "execute_result"
    }
   ],
   "source": [
    "df.kurt()"
   ]
  },
  {
   "cell_type": "markdown",
   "id": "e6c5f443",
   "metadata": {},
   "source": [
    "our bp_before column is not normal distribution :"
   ]
  },
  {
   "cell_type": "raw",
   "id": "df4d800a",
   "metadata": {},
   "source": [
    "we have 3 transformation function to get column from neg kurtosis or positive kurtosis to normal distributed:\n",
    "    1. np.log\n",
    "    2. power law (exp)\n",
    "    3. boxcox "
   ]
  },
  {
   "cell_type": "code",
   "execution_count": 11,
   "id": "9f5ab261",
   "metadata": {},
   "outputs": [],
   "source": [
    "x = st.boxcox(df[\"bp_before\"])"
   ]
  },
  {
   "cell_type": "code",
   "execution_count": 12,
   "id": "540bc9fe",
   "metadata": {},
   "outputs": [
    {
     "data": {
      "text/plain": [
       "(array([0.33448307, 0.33448311, 0.33448309, 0.33448309, 0.33448308,\n",
       "        0.33448308, 0.33448308, 0.33448309, 0.33448309, 0.3344831 ,\n",
       "        0.33448308, 0.33448312, 0.33448311, 0.33448307, 0.33448307,\n",
       "        0.33448309, 0.33448306, 0.33448312, 0.33448307, 0.33448311,\n",
       "        0.33448308, 0.3344831 , 0.33448309, 0.3344831 , 0.33448311,\n",
       "        0.33448309, 0.33448309, 0.33448307, 0.33448311, 0.33448309,\n",
       "        0.33448312, 0.33448313, 0.33448311, 0.33448308, 0.33448312,\n",
       "        0.3344831 , 0.33448308, 0.33448306, 0.33448313, 0.3344831 ,\n",
       "        0.3344831 , 0.3344831 , 0.33448311, 0.3344831 , 0.33448313,\n",
       "        0.33448309, 0.33448312, 0.3344831 , 0.33448312, 0.33448312,\n",
       "        0.33448312, 0.33448312, 0.33448312, 0.33448312, 0.33448312,\n",
       "        0.33448311, 0.33448308, 0.33448309, 0.33448312, 0.33448311,\n",
       "        0.33448309, 0.33448308, 0.33448307, 0.33448307, 0.3344831 ,\n",
       "        0.33448308, 0.33448309, 0.33448309, 0.33448308, 0.33448305,\n",
       "        0.33448311, 0.3344831 , 0.33448306, 0.33448311, 0.33448308,\n",
       "        0.33448307, 0.33448307, 0.33448311, 0.33448308, 0.33448307,\n",
       "        0.3344831 , 0.33448312, 0.33448308, 0.33448308, 0.33448311,\n",
       "        0.33448309, 0.33448307, 0.3344831 , 0.33448308, 0.3344831 ,\n",
       "        0.33448307, 0.33448311, 0.33448307, 0.33448307, 0.3344831 ,\n",
       "        0.33448306, 0.33448307, 0.33448307, 0.33448307, 0.33448307,\n",
       "        0.33448311, 0.33448307, 0.33448308, 0.33448308, 0.33448311,\n",
       "        0.33448312, 0.33448312, 0.33448309, 0.33448309, 0.33448311,\n",
       "        0.33448313, 0.3344831 , 0.33448308, 0.33448309, 0.33448311,\n",
       "        0.33448309, 0.3344831 , 0.33448311, 0.33448308, 0.33448313]),\n",
       " -2.9896868809483887)"
      ]
     },
     "execution_count": 12,
     "metadata": {},
     "output_type": "execute_result"
    }
   ],
   "source": [
    "x"
   ]
  },
  {
   "cell_type": "code",
   "execution_count": 13,
   "id": "cb37fbc9",
   "metadata": {},
   "outputs": [
    {
     "data": {
      "text/plain": [
       "array([0.33448307, 0.33448311, 0.33448309, 0.33448309, 0.33448308,\n",
       "       0.33448308, 0.33448308, 0.33448309, 0.33448309, 0.3344831 ,\n",
       "       0.33448308, 0.33448312, 0.33448311, 0.33448307, 0.33448307,\n",
       "       0.33448309, 0.33448306, 0.33448312, 0.33448307, 0.33448311,\n",
       "       0.33448308, 0.3344831 , 0.33448309, 0.3344831 , 0.33448311,\n",
       "       0.33448309, 0.33448309, 0.33448307, 0.33448311, 0.33448309,\n",
       "       0.33448312, 0.33448313, 0.33448311, 0.33448308, 0.33448312,\n",
       "       0.3344831 , 0.33448308, 0.33448306, 0.33448313, 0.3344831 ,\n",
       "       0.3344831 , 0.3344831 , 0.33448311, 0.3344831 , 0.33448313,\n",
       "       0.33448309, 0.33448312, 0.3344831 , 0.33448312, 0.33448312,\n",
       "       0.33448312, 0.33448312, 0.33448312, 0.33448312, 0.33448312,\n",
       "       0.33448311, 0.33448308, 0.33448309, 0.33448312, 0.33448311,\n",
       "       0.33448309, 0.33448308, 0.33448307, 0.33448307, 0.3344831 ,\n",
       "       0.33448308, 0.33448309, 0.33448309, 0.33448308, 0.33448305,\n",
       "       0.33448311, 0.3344831 , 0.33448306, 0.33448311, 0.33448308,\n",
       "       0.33448307, 0.33448307, 0.33448311, 0.33448308, 0.33448307,\n",
       "       0.3344831 , 0.33448312, 0.33448308, 0.33448308, 0.33448311,\n",
       "       0.33448309, 0.33448307, 0.3344831 , 0.33448308, 0.3344831 ,\n",
       "       0.33448307, 0.33448311, 0.33448307, 0.33448307, 0.3344831 ,\n",
       "       0.33448306, 0.33448307, 0.33448307, 0.33448307, 0.33448307,\n",
       "       0.33448311, 0.33448307, 0.33448308, 0.33448308, 0.33448311,\n",
       "       0.33448312, 0.33448312, 0.33448309, 0.33448309, 0.33448311,\n",
       "       0.33448313, 0.3344831 , 0.33448308, 0.33448309, 0.33448311,\n",
       "       0.33448309, 0.3344831 , 0.33448311, 0.33448308, 0.33448313])"
      ]
     },
     "execution_count": 13,
     "metadata": {},
     "output_type": "execute_result"
    }
   ],
   "source": [
    "x[0]"
   ]
  },
  {
   "cell_type": "code",
   "execution_count": 14,
   "id": "d72baed6",
   "metadata": {},
   "outputs": [
    {
     "data": {
      "image/png": "[encoded data removed]",
      "text/plain": [
       "<Figure size 432x288 with 1 Axes>"
      ]
     },
     "metadata": {
      "needs_background": "light"
     },
     "output_type": "display_data"
    }
   ],
   "source": [
    "st.probplot(x[0],dist=\"norm\",plot=pylab);"
   ]
  },
  {
   "cell_type": "code",
   "execution_count": 15,
   "id": "1fece08c",
   "metadata": {},
   "outputs": [
    {
     "data": {
      "text/plain": [
       "0.0"
      ]
     },
     "execution_count": 15,
     "metadata": {},
     "output_type": "execute_result"
    }
   ],
   "source": [
    "pd.Series(x[0]).skew()"
   ]
  },
  {
   "cell_type": "code",
   "execution_count": 16,
   "id": "ee3f069f",
   "metadata": {},
   "outputs": [
    {
     "data": {
      "text/plain": [
       "0.33448309351523403"
      ]
     },
     "execution_count": 16,
     "metadata": {},
     "output_type": "execute_result"
    }
   ],
   "source": [
    "pop_mean = x[0].mean()\n",
    "pop_mean"
   ]
  },
  {
   "cell_type": "code",
   "execution_count": 17,
   "id": "05ecb2d3",
   "metadata": {},
   "outputs": [],
   "source": [
    "sample = x[0][0:40]"
   ]
  },
  {
   "cell_type": "code",
   "execution_count": 18,
   "id": "2196f141",
   "metadata": {},
   "outputs": [],
   "source": [
    "sample_mean=sample.mean()"
   ]
  },
  {
   "cell_type": "code",
   "execution_count": 19,
   "id": "b5f5f7b5",
   "metadata": {},
   "outputs": [
    {
     "data": {
      "text/plain": [
       "0.0"
      ]
     },
     "execution_count": 19,
     "metadata": {},
     "output_type": "execute_result"
    }
   ],
   "source": [
    "round(sample.std(),3)"
   ]
  },
  {
   "cell_type": "code",
   "execution_count": 20,
   "id": "4aae708f",
   "metadata": {},
   "outputs": [],
   "source": [
    "from statsmodels.stats.weightstats import ztest"
   ]
  },
  {
   "cell_type": "code",
   "execution_count": 21,
   "id": "6a68276b",
   "metadata": {},
   "outputs": [
    {
     "name": "stdout",
     "output_type": "stream",
     "text": [
      "Help on function ztest in module statsmodels.stats.weightstats:\n",
      "\n",
      "ztest(x1, x2=None, value=0, alternative='two-sided', usevar='pooled', ddof=1.0)\n",
      "    test for mean based on normal distribution, one or two samples\n",
      "    \n",
      "    In the case of two samples, the samples are assumed to be independent.\n",
      "    \n",
      "    Parameters\n",
      "    ----------\n",
      "    x1 : array_like, 1-D or 2-D\n",
      "        first of the two independent samples\n",
      "    x2 : array_like, 1-D or 2-D\n",
      "        second of the two independent samples\n",
      "    value : float\n",
      "        In the one sample case, value is the mean of x1 under the Null\n",
      "        hypothesis.\n",
      "        In the two sample case, value is the difference between mean of x1 and\n",
      "        mean of x2 under the Null hypothesis. The test statistic is\n",
      "        `x1_mean - x2_mean - value`.\n",
      "    alternative : str\n",
      "        The alternative hypothesis, H1, has to be one of the following\n",
      "    \n",
      "           'two-sided': H1: difference in means not equal to value (default)\n",
      "           'larger' :   H1: difference in means larger than value\n",
      "           'smaller' :  H1: difference in means smaller than value\n",
      "    \n",
      "    usevar : str, 'pooled'\n",
      "        Currently, only 'pooled' is implemented.\n",
      "        If ``pooled``, then the standard deviation of the samples is assumed to be\n",
      "        the same. see CompareMeans.ztest_ind for different options.\n",
      "    ddof : int\n",
      "        Degrees of freedom use in the calculation of the variance of the mean\n",
      "        estimate. In the case of comparing means this is one, however it can\n",
      "        be adjusted for testing other statistics (proportion, correlation)\n",
      "    \n",
      "    Returns\n",
      "    -------\n",
      "    tstat : float\n",
      "        test statistic\n",
      "    pvalue : float\n",
      "        pvalue of the t-test\n",
      "    \n",
      "    Notes\n",
      "    -----\n",
      "    usevar not implemented, is always pooled in two sample case\n",
      "    use CompareMeans instead.\n",
      "\n"
     ]
    }
   ],
   "source": [
    "help(ztest)"
   ]
  },
  {
   "cell_type": "markdown",
   "id": "9f703b7f",
   "metadata": {},
   "source": [
    "# One Sample Ztest"
   ]
  },
  {
   "cell_type": "code",
   "execution_count": 22,
   "id": "d1d40ae2",
   "metadata": {},
   "outputs": [],
   "source": [
    "z_val,p_val=ztest(sample,value=pop_mean,alternative=\"two-sided\")"
   ]
  },
  {
   "cell_type": "code",
   "execution_count": 23,
   "id": "4f6c5a16",
   "metadata": {},
   "outputs": [
    {
     "name": "stdout",
     "output_type": "stream",
     "text": [
      "0.9277110905694753\n",
      "acpt null hypo\n"
     ]
    }
   ],
   "source": [
    "alpha = 0.05\n",
    "print(p_val)\n",
    "if p_val<alpha:\n",
    "    print(\"reject null hypo\")\n",
    "else:\n",
    "    print(\"acpt null hypo\")"
   ]
  },
  {
   "cell_type": "code",
   "execution_count": null,
   "id": "583a2c2d",
   "metadata": {},
   "outputs": [],
   "source": []
  },
  {
   "cell_type": "markdown",
   "id": "9dad6537",
   "metadata": {},
   "source": [
    "# Two Sample Ztest"
   ]
  },
  {
   "cell_type": "raw",
   "id": "287581bb",
   "metadata": {},
   "source": [
    "H0 sample mean = population mean:\n",
    "    sample mean - polulation mean = 0\n",
    "\n",
    "H1 sample mean != population mean"
   ]
  },
  {
   "cell_type": "code",
   "execution_count": 24,
   "id": "16de4b8c",
   "metadata": {},
   "outputs": [],
   "source": [
    "z_val,p_val = ztest(sample,df[\"bp_after\"][0:40],value=0,alternative=\"two-sided\")"
   ]
  },
  {
   "cell_type": "code",
   "execution_count": 25,
   "id": "7dd3fac2",
   "metadata": {},
   "outputs": [
    {
     "name": "stdout",
     "output_type": "stream",
     "text": [
      "-61.323966620699146 0.0\n",
      "reject null hypo\n"
     ]
    }
   ],
   "source": [
    "alpha=0.05\n",
    "print(z_val,p_val)\n",
    "if p_val<alpha:\n",
    "    print(\"reject null hypo\")\n",
    "else:\n",
    "    print(\"acpt null hypo\")"
   ]
  },
  {
   "cell_type": "code",
   "execution_count": null,
   "id": "dc2568b3",
   "metadata": {},
   "outputs": [],
   "source": []
  },
  {
   "cell_type": "markdown",
   "id": "233bb710",
   "metadata": {},
   "source": [
    "# T-Test"
   ]
  },
  {
   "cell_type": "code",
   "execution_count": null,
   "id": "95446bc7",
   "metadata": {},
   "outputs": [],
   "source": []
  },
  {
   "cell_type": "markdown",
   "id": "ab111c5b",
   "metadata": {},
   "source": [
    "# One Sample Ttest"
   ]
  },
  {
   "cell_type": "code",
   "execution_count": 27,
   "id": "bae009eb",
   "metadata": {},
   "outputs": [
    {
     "data": {
      "text/plain": [
       "156.45"
      ]
     },
     "execution_count": 27,
     "metadata": {},
     "output_type": "execute_result"
    }
   ],
   "source": [
    "df[\"bp_before\"].mean()"
   ]
  },
  {
   "cell_type": "code",
   "execution_count": 28,
   "id": "d6662e5e",
   "metadata": {},
   "outputs": [
    {
     "data": {
      "text/plain": [
       "154.9"
      ]
     },
     "execution_count": 28,
     "metadata": {},
     "output_type": "execute_result"
    }
   ],
   "source": [
    "df[\"bp_before\"][10:20].mean()"
   ]
  },
  {
   "cell_type": "code",
   "execution_count": 29,
   "id": "24b008cb",
   "metadata": {},
   "outputs": [
    {
     "data": {
      "text/plain": [
       "13.093255261138587"
      ]
     },
     "execution_count": 29,
     "metadata": {},
     "output_type": "execute_result"
    }
   ],
   "source": [
    "df[\"bp_before\"][10:20].std()"
   ]
  },
  {
   "cell_type": "code",
   "execution_count": 30,
   "id": "43caa033",
   "metadata": {},
   "outputs": [],
   "source": [
    "from scipy.stats import ttest_1samp\n"
   ]
  },
  {
   "cell_type": "code",
   "execution_count": 59,
   "id": "2d7092e8",
   "metadata": {},
   "outputs": [],
   "source": [
    "t_val , p_val = ttest_1samp(df[\"bp_before\"][10:20],popmean=156)"
   ]
  },
  {
   "cell_type": "code",
   "execution_count": 60,
   "id": "5cdb72e9",
   "metadata": {},
   "outputs": [
    {
     "name": "stdout",
     "output_type": "stream",
     "text": [
      "-0.2656715504897832 0.7964776746455889\n",
      "fail to reject null hypo\n"
     ]
    }
   ],
   "source": [
    "print(t_val,p_val)\n",
    "alpha = 0.05\n",
    "if p_val<alpha:\n",
    "    print(\"reject null hypo\")\n",
    "else:\n",
    "    print(\"fail to reject null hypo\")"
   ]
  },
  {
   "cell_type": "code",
   "execution_count": null,
   "id": "7c758cd9",
   "metadata": {},
   "outputs": [],
   "source": []
  },
  {
   "cell_type": "markdown",
   "id": "5aaaf398",
   "metadata": {},
   "source": [
    "# two sample ttest"
   ]
  },
  {
   "cell_type": "code",
   "execution_count": 86,
   "id": "db2bc259",
   "metadata": {},
   "outputs": [
    {
     "data": {
      "text/plain": [
       "156.45"
      ]
     },
     "execution_count": 86,
     "metadata": {},
     "output_type": "execute_result"
    }
   ],
   "source": [
    "df[\"bp_before\"].mean()"
   ]
  },
  {
   "cell_type": "code",
   "execution_count": 87,
   "id": "fbdbc788",
   "metadata": {},
   "outputs": [
    {
     "data": {
      "text/plain": [
       "151.35833333333332"
      ]
     },
     "execution_count": 87,
     "metadata": {},
     "output_type": "execute_result"
    }
   ],
   "source": [
    "df[\"bp_after\"].mean()"
   ]
  },
  {
   "cell_type": "code",
   "execution_count": 88,
   "id": "f8deae64",
   "metadata": {},
   "outputs": [],
   "source": [
    "z_val , p_val = st.ttest_rel(df[\"bp_before\"],df[\"bp_after\"])"
   ]
  },
  {
   "cell_type": "code",
   "execution_count": 89,
   "id": "c1d50d83",
   "metadata": {},
   "outputs": [
    {
     "name": "stdout",
     "output_type": "stream",
     "text": [
      "3.3371870510833657 0.0011297914644840823\n",
      "reject null hypo\n"
     ]
    }
   ],
   "source": [
    "print(z_val,p_val)\n",
    "alpha = 0.05\n",
    "if p_val<alpha:\n",
    "    print(\"reject null hypo\")\n",
    "else:\n",
    "    print(\"fail to reject null hypo\")"
   ]
  },
  {
   "cell_type": "code",
   "execution_count": null,
   "id": "a167d672",
   "metadata": {},
   "outputs": [],
   "source": []
  },
  {
   "cell_type": "markdown",
   "id": "22dca5cf",
   "metadata": {},
   "source": [
    "# Chi-Squared Test"
   ]
  },
  {
   "cell_type": "code",
   "execution_count": 4,
   "id": "cbbbf7d2",
   "metadata": {},
   "outputs": [],
   "source": [
    "df = sns.load_dataset(\"tips\")"
   ]
  },
  {
   "cell_type": "code",
   "execution_count": 5,
   "id": "20a72b01",
   "metadata": {},
   "outputs": [
    {
     "data": {
      "text/html": [
       "<div>\n",
       "<style scoped>\n",
       "    .dataframe tbody tr th:only-of-type {\n",
       "        vertical-align: middle;\n",
       "    }\n",
       "\n",
       "    .dataframe tbody tr th {\n",
       "        vertical-align: top;\n",
       "    }\n",
       "\n",
       "    .dataframe thead th {\n",
       "        text-align: right;\n",
       "    }\n",
       "</style>\n",
       "<table border=\"1\" class=\"dataframe\">\n",
       "  <thead>\n",
       "    <tr style=\"text-align: right;\">\n",
       "      <th></th>\n",
       "      <th>total_bill</th>\n",
       "      <th>tip</th>\n",
       "      <th>sex</th>\n",
       "      <th>smoker</th>\n",
       "      <th>day</th>\n",
       "      <th>time</th>\n",
       "      <th>size</th>\n",
       "    </tr>\n",
       "  </thead>\n",
       "  <tbody>\n",
       "    <tr>\n",
       "      <th>0</th>\n",
       "      <td>16.99</td>\n",
       "      <td>1.01</td>\n",
       "      <td>Female</td>\n",
       "      <td>No</td>\n",
       "      <td>Sun</td>\n",
       "      <td>Dinner</td>\n",
       "      <td>2</td>\n",
       "    </tr>\n",
       "    <tr>\n",
       "      <th>1</th>\n",
       "      <td>10.34</td>\n",
       "      <td>1.66</td>\n",
       "      <td>Male</td>\n",
       "      <td>No</td>\n",
       "      <td>Sun</td>\n",
       "      <td>Dinner</td>\n",
       "      <td>3</td>\n",
       "    </tr>\n",
       "    <tr>\n",
       "      <th>2</th>\n",
       "      <td>21.01</td>\n",
       "      <td>3.50</td>\n",
       "      <td>Male</td>\n",
       "      <td>No</td>\n",
       "      <td>Sun</td>\n",
       "      <td>Dinner</td>\n",
       "      <td>3</td>\n",
       "    </tr>\n",
       "    <tr>\n",
       "      <th>3</th>\n",
       "      <td>23.68</td>\n",
       "      <td>3.31</td>\n",
       "      <td>Male</td>\n",
       "      <td>No</td>\n",
       "      <td>Sun</td>\n",
       "      <td>Dinner</td>\n",
       "      <td>2</td>\n",
       "    </tr>\n",
       "    <tr>\n",
       "      <th>4</th>\n",
       "      <td>24.59</td>\n",
       "      <td>3.61</td>\n",
       "      <td>Female</td>\n",
       "      <td>No</td>\n",
       "      <td>Sun</td>\n",
       "      <td>Dinner</td>\n",
       "      <td>4</td>\n",
       "    </tr>\n",
       "  </tbody>\n",
       "</table>\n",
       "</div>"
      ],
      "text/plain": [
       "   total_bill   tip     sex smoker  day    time  size\n",
       "0       16.99  1.01  Female     No  Sun  Dinner     2\n",
       "1       10.34  1.66    Male     No  Sun  Dinner     3\n",
       "2       21.01  3.50    Male     No  Sun  Dinner     3\n",
       "3       23.68  3.31    Male     No  Sun  Dinner     2\n",
       "4       24.59  3.61  Female     No  Sun  Dinner     4"
      ]
     },
     "execution_count": 5,
     "metadata": {},
     "output_type": "execute_result"
    }
   ],
   "source": [
    "df.head()"
   ]
  },
  {
   "cell_type": "raw",
   "id": "c570c931",
   "metadata": {},
   "source": [
    "H0 = independent to each other   (there is no relation between two columns)\n",
    "H1 = dependent to each other     (there is relation between two columns)"
   ]
  },
  {
   "cell_type": "markdown",
   "id": "1864bc37",
   "metadata": {},
   "source": [
    "observation table"
   ]
  },
  {
   "cell_type": "code",
   "execution_count": 6,
   "id": "39c5e1eb",
   "metadata": {},
   "outputs": [],
   "source": [
    "obs_table=pd.crosstab(df[\"sex\"],df[\"smoker\"])"
   ]
  },
  {
   "cell_type": "code",
   "execution_count": 7,
   "id": "38fee880",
   "metadata": {},
   "outputs": [
    {
     "data": {
      "text/html": [
       "<div>\n",
       "<style scoped>\n",
       "    .dataframe tbody tr th:only-of-type {\n",
       "        vertical-align: middle;\n",
       "    }\n",
       "\n",
       "    .dataframe tbody tr th {\n",
       "        vertical-align: top;\n",
       "    }\n",
       "\n",
       "    .dataframe thead th {\n",
       "        text-align: right;\n",
       "    }\n",
       "</style>\n",
       "<table border=\"1\" class=\"dataframe\">\n",
       "  <thead>\n",
       "    <tr style=\"text-align: right;\">\n",
       "      <th>smoker</th>\n",
       "      <th>Yes</th>\n",
       "      <th>No</th>\n",
       "    </tr>\n",
       "    <tr>\n",
       "      <th>sex</th>\n",
       "      <th></th>\n",
       "      <th></th>\n",
       "    </tr>\n",
       "  </thead>\n",
       "  <tbody>\n",
       "    <tr>\n",
       "      <th>Male</th>\n",
       "      <td>60</td>\n",
       "      <td>97</td>\n",
       "    </tr>\n",
       "    <tr>\n",
       "      <th>Female</th>\n",
       "      <td>33</td>\n",
       "      <td>54</td>\n",
       "    </tr>\n",
       "  </tbody>\n",
       "</table>\n",
       "</div>"
      ],
      "text/plain": [
       "smoker  Yes  No\n",
       "sex            \n",
       "Male     60  97\n",
       "Female   33  54"
      ]
     },
     "execution_count": 7,
     "metadata": {},
     "output_type": "execute_result"
    }
   ],
   "source": [
    "obs_table"
   ]
  },
  {
   "cell_type": "code",
   "execution_count": 9,
   "id": "c1fc43cc",
   "metadata": {},
   "outputs": [],
   "source": [
    "value=st.chi2_contingency(obs_table)"
   ]
  },
  {
   "cell_type": "code",
   "execution_count": 10,
   "id": "f35b1b51",
   "metadata": {},
   "outputs": [],
   "source": [
    "p_val = value[1]"
   ]
  },
  {
   "cell_type": "code",
   "execution_count": 11,
   "id": "ce10fe70",
   "metadata": {},
   "outputs": [
    {
     "name": "stdout",
     "output_type": "stream",
     "text": [
      "fail to reject\n"
     ]
    }
   ],
   "source": [
    "alpha = 0.05\n",
    "if p_val<alpha:\n",
    "    print(\"reject null hypo\")\n",
    "else:\n",
    "    print(\"fail to reject\")"
   ]
  },
  {
   "cell_type": "code",
   "execution_count": null,
   "id": "2e85b73d",
   "metadata": {},
   "outputs": [],
   "source": []
  },
  {
   "cell_type": "markdown",
   "id": "749a911f",
   "metadata": {},
   "source": [
    "# Anova or F-Test"
   ]
  },
  {
   "cell_type": "code",
   "execution_count": 14,
   "id": "adb62dff",
   "metadata": {},
   "outputs": [
    {
     "data": {
      "text/html": [
       "<div>\n",
       "<style scoped>\n",
       "    .dataframe tbody tr th:only-of-type {\n",
       "        vertical-align: middle;\n",
       "    }\n",
       "\n",
       "    .dataframe tbody tr th {\n",
       "        vertical-align: top;\n",
       "    }\n",
       "\n",
       "    .dataframe thead th {\n",
       "        text-align: right;\n",
       "    }\n",
       "</style>\n",
       "<table border=\"1\" class=\"dataframe\">\n",
       "  <thead>\n",
       "    <tr style=\"text-align: right;\">\n",
       "      <th></th>\n",
       "      <th>sepal_length</th>\n",
       "      <th>sepal_width</th>\n",
       "      <th>petal_length</th>\n",
       "      <th>petal_width</th>\n",
       "      <th>species</th>\n",
       "    </tr>\n",
       "  </thead>\n",
       "  <tbody>\n",
       "    <tr>\n",
       "      <th>0</th>\n",
       "      <td>5.1</td>\n",
       "      <td>3.5</td>\n",
       "      <td>1.4</td>\n",
       "      <td>0.2</td>\n",
       "      <td>setosa</td>\n",
       "    </tr>\n",
       "    <tr>\n",
       "      <th>1</th>\n",
       "      <td>4.9</td>\n",
       "      <td>3.0</td>\n",
       "      <td>1.4</td>\n",
       "      <td>0.2</td>\n",
       "      <td>setosa</td>\n",
       "    </tr>\n",
       "    <tr>\n",
       "      <th>2</th>\n",
       "      <td>4.7</td>\n",
       "      <td>3.2</td>\n",
       "      <td>1.3</td>\n",
       "      <td>0.2</td>\n",
       "      <td>setosa</td>\n",
       "    </tr>\n",
       "    <tr>\n",
       "      <th>3</th>\n",
       "      <td>4.6</td>\n",
       "      <td>3.1</td>\n",
       "      <td>1.5</td>\n",
       "      <td>0.2</td>\n",
       "      <td>setosa</td>\n",
       "    </tr>\n",
       "    <tr>\n",
       "      <th>4</th>\n",
       "      <td>5.0</td>\n",
       "      <td>3.6</td>\n",
       "      <td>1.4</td>\n",
       "      <td>0.2</td>\n",
       "      <td>setosa</td>\n",
       "    </tr>\n",
       "  </tbody>\n",
       "</table>\n",
       "</div>"
      ],
      "text/plain": [
       "   sepal_length  sepal_width  petal_length  petal_width species\n",
       "0           5.1          3.5           1.4          0.2  setosa\n",
       "1           4.9          3.0           1.4          0.2  setosa\n",
       "2           4.7          3.2           1.3          0.2  setosa\n",
       "3           4.6          3.1           1.5          0.2  setosa\n",
       "4           5.0          3.6           1.4          0.2  setosa"
      ]
     },
     "execution_count": 14,
     "metadata": {},
     "output_type": "execute_result"
    }
   ],
   "source": [
    "df=sns.load_dataset(\"iris\")\n",
    "df.head()"
   ]
  },
  {
   "cell_type": "code",
   "execution_count": 16,
   "id": "08cad7a2",
   "metadata": {},
   "outputs": [],
   "source": [
    "df_anova = df[[\"petal_width\",\"species\"]]"
   ]
  },
  {
   "cell_type": "code",
   "execution_count": 17,
   "id": "49a45718",
   "metadata": {},
   "outputs": [],
   "source": [
    "grps = df[\"species\"].unique()"
   ]
  },
  {
   "cell_type": "code",
   "execution_count": 19,
   "id": "2baf7285",
   "metadata": {},
   "outputs": [
    {
     "data": {
      "text/plain": [
       "array(['setosa', 'versicolor', 'virginica'], dtype=object)"
      ]
     },
     "execution_count": 19,
     "metadata": {},
     "output_type": "execute_result"
    }
   ],
   "source": [
    "grps"
   ]
  },
  {
   "cell_type": "code",
   "execution_count": 20,
   "id": "c2460ce9",
   "metadata": {},
   "outputs": [],
   "source": [
    "d_data = {grp:df_anova[\"petal_width\"][df_anova.species==grp]  for grp in grps}"
   ]
  },
  {
   "cell_type": "code",
   "execution_count": 21,
   "id": "8b20c604",
   "metadata": {
    "collapsed": true
   },
   "outputs": [
    {
     "data": {
      "text/plain": [
       "{'setosa': 0     0.2\n",
       " 1     0.2\n",
       " 2     0.2\n",
       " 3     0.2\n",
       " 4     0.2\n",
       " 5     0.4\n",
       " 6     0.3\n",
       " 7     0.2\n",
       " 8     0.2\n",
       " 9     0.1\n",
       " 10    0.2\n",
       " 11    0.2\n",
       " 12    0.1\n",
       " 13    0.1\n",
       " 14    0.2\n",
       " 15    0.4\n",
       " 16    0.4\n",
       " 17    0.3\n",
       " 18    0.3\n",
       " 19    0.3\n",
       " 20    0.2\n",
       " 21    0.4\n",
       " 22    0.2\n",
       " 23    0.5\n",
       " 24    0.2\n",
       " 25    0.2\n",
       " 26    0.4\n",
       " 27    0.2\n",
       " 28    0.2\n",
       " 29    0.2\n",
       " 30    0.2\n",
       " 31    0.4\n",
       " 32    0.1\n",
       " 33    0.2\n",
       " 34    0.2\n",
       " 35    0.2\n",
       " 36    0.2\n",
       " 37    0.1\n",
       " 38    0.2\n",
       " 39    0.2\n",
       " 40    0.3\n",
       " 41    0.3\n",
       " 42    0.2\n",
       " 43    0.6\n",
       " 44    0.4\n",
       " 45    0.3\n",
       " 46    0.2\n",
       " 47    0.2\n",
       " 48    0.2\n",
       " 49    0.2\n",
       " Name: petal_width, dtype: float64,\n",
       " 'versicolor': 50    1.4\n",
       " 51    1.5\n",
       " 52    1.5\n",
       " 53    1.3\n",
       " 54    1.5\n",
       " 55    1.3\n",
       " 56    1.6\n",
       " 57    1.0\n",
       " 58    1.3\n",
       " 59    1.4\n",
       " 60    1.0\n",
       " 61    1.5\n",
       " 62    1.0\n",
       " 63    1.4\n",
       " 64    1.3\n",
       " 65    1.4\n",
       " 66    1.5\n",
       " 67    1.0\n",
       " 68    1.5\n",
       " 69    1.1\n",
       " 70    1.8\n",
       " 71    1.3\n",
       " 72    1.5\n",
       " 73    1.2\n",
       " 74    1.3\n",
       " 75    1.4\n",
       " 76    1.4\n",
       " 77    1.7\n",
       " 78    1.5\n",
       " 79    1.0\n",
       " 80    1.1\n",
       " 81    1.0\n",
       " 82    1.2\n",
       " 83    1.6\n",
       " 84    1.5\n",
       " 85    1.6\n",
       " 86    1.5\n",
       " 87    1.3\n",
       " 88    1.3\n",
       " 89    1.3\n",
       " 90    1.2\n",
       " 91    1.4\n",
       " 92    1.2\n",
       " 93    1.0\n",
       " 94    1.3\n",
       " 95    1.2\n",
       " 96    1.3\n",
       " 97    1.3\n",
       " 98    1.1\n",
       " 99    1.3\n",
       " Name: petal_width, dtype: float64,\n",
       " 'virginica': 100    2.5\n",
       " 101    1.9\n",
       " 102    2.1\n",
       " 103    1.8\n",
       " 104    2.2\n",
       " 105    2.1\n",
       " 106    1.7\n",
       " 107    1.8\n",
       " 108    1.8\n",
       " 109    2.5\n",
       " 110    2.0\n",
       " 111    1.9\n",
       " 112    2.1\n",
       " 113    2.0\n",
       " 114    2.4\n",
       " 115    2.3\n",
       " 116    1.8\n",
       " 117    2.2\n",
       " 118    2.3\n",
       " 119    1.5\n",
       " 120    2.3\n",
       " 121    2.0\n",
       " 122    2.0\n",
       " 123    1.8\n",
       " 124    2.1\n",
       " 125    1.8\n",
       " 126    1.8\n",
       " 127    1.8\n",
       " 128    2.1\n",
       " 129    1.6\n",
       " 130    1.9\n",
       " 131    2.0\n",
       " 132    2.2\n",
       " 133    1.5\n",
       " 134    1.4\n",
       " 135    2.3\n",
       " 136    2.4\n",
       " 137    1.8\n",
       " 138    1.8\n",
       " 139    2.1\n",
       " 140    2.4\n",
       " 141    2.3\n",
       " 142    1.9\n",
       " 143    2.3\n",
       " 144    2.5\n",
       " 145    2.3\n",
       " 146    1.9\n",
       " 147    2.0\n",
       " 148    2.3\n",
       " 149    1.8\n",
       " Name: petal_width, dtype: float64}"
      ]
     },
     "execution_count": 21,
     "metadata": {},
     "output_type": "execute_result"
    }
   ],
   "source": [
    "d_data"
   ]
  },
  {
   "cell_type": "code",
   "execution_count": 22,
   "id": "de2a3b5d",
   "metadata": {},
   "outputs": [],
   "source": [
    "f_val , p_val = st.f_oneway(d_data[\"setosa\"],d_data[\"versicolor\"],d_data[\"virginica\"])"
   ]
  },
  {
   "cell_type": "code",
   "execution_count": 26,
   "id": "fdae3539",
   "metadata": {},
   "outputs": [
    {
     "name": "stdout",
     "output_type": "stream",
     "text": [
      "960.007146801809 4.169445839443116e-85\n",
      "reject null hypo\n"
     ]
    }
   ],
   "source": [
    "alpha = 0.05\n",
    "print(f_val,p_val)\n",
    "if p_val<alpha:\n",
    "    print(\"reject null hypo\")\n",
    "else:\n",
    "    print(\"fail to reject\")"
   ]
  },
  {
   "cell_type": "code",
   "execution_count": null,
   "id": "34726878",
   "metadata": {},
   "outputs": [],
   "source": []
  },
  {
   "cell_type": "markdown",
   "id": "2b4c23f7",
   "metadata": {},
   "source": [
    "# Chi-Squared Test"
   ]
  },
  {
   "cell_type": "code",
   "execution_count": 1,
   "id": "e340c3d9",
   "metadata": {},
   "outputs": [],
   "source": [
    "import numpy as np\n",
    "import pandas as pd\n",
    "import seaborn as sns\n",
    "import matplotlib.pyplot as plt\n",
    "%matplotlib inline"
   ]
  },
  {
   "cell_type": "code",
   "execution_count": 4,
   "id": "e1186d54",
   "metadata": {},
   "outputs": [],
   "source": [
    "df=sns.load_dataset('tips')"
   ]
  },
  {
   "cell_type": "code",
   "execution_count": 5,
   "id": "2abae8a1",
   "metadata": {},
   "outputs": [
    {
     "data": {
      "text/html": [
       "<div>\n",
       "<style scoped>\n",
       "    .dataframe tbody tr th:only-of-type {\n",
       "        vertical-align: middle;\n",
       "    }\n",
       "\n",
       "    .dataframe tbody tr th {\n",
       "        vertical-align: top;\n",
       "    }\n",
       "\n",
       "    .dataframe thead th {\n",
       "        text-align: right;\n",
       "    }\n",
       "</style>\n",
       "<table border=\"1\" class=\"dataframe\">\n",
       "  <thead>\n",
       "    <tr style=\"text-align: right;\">\n",
       "      <th></th>\n",
       "      <th>total_bill</th>\n",
       "      <th>tip</th>\n",
       "      <th>sex</th>\n",
       "      <th>smoker</th>\n",
       "      <th>day</th>\n",
       "      <th>time</th>\n",
       "      <th>size</th>\n",
       "    </tr>\n",
       "  </thead>\n",
       "  <tbody>\n",
       "    <tr>\n",
       "      <th>0</th>\n",
       "      <td>16.99</td>\n",
       "      <td>1.01</td>\n",
       "      <td>Female</td>\n",
       "      <td>No</td>\n",
       "      <td>Sun</td>\n",
       "      <td>Dinner</td>\n",
       "      <td>2</td>\n",
       "    </tr>\n",
       "    <tr>\n",
       "      <th>1</th>\n",
       "      <td>10.34</td>\n",
       "      <td>1.66</td>\n",
       "      <td>Male</td>\n",
       "      <td>No</td>\n",
       "      <td>Sun</td>\n",
       "      <td>Dinner</td>\n",
       "      <td>3</td>\n",
       "    </tr>\n",
       "    <tr>\n",
       "      <th>2</th>\n",
       "      <td>21.01</td>\n",
       "      <td>3.50</td>\n",
       "      <td>Male</td>\n",
       "      <td>No</td>\n",
       "      <td>Sun</td>\n",
       "      <td>Dinner</td>\n",
       "      <td>3</td>\n",
       "    </tr>\n",
       "    <tr>\n",
       "      <th>3</th>\n",
       "      <td>23.68</td>\n",
       "      <td>3.31</td>\n",
       "      <td>Male</td>\n",
       "      <td>No</td>\n",
       "      <td>Sun</td>\n",
       "      <td>Dinner</td>\n",
       "      <td>2</td>\n",
       "    </tr>\n",
       "    <tr>\n",
       "      <th>4</th>\n",
       "      <td>24.59</td>\n",
       "      <td>3.61</td>\n",
       "      <td>Female</td>\n",
       "      <td>No</td>\n",
       "      <td>Sun</td>\n",
       "      <td>Dinner</td>\n",
       "      <td>4</td>\n",
       "    </tr>\n",
       "  </tbody>\n",
       "</table>\n",
       "</div>"
      ],
      "text/plain": [
       "   total_bill   tip     sex smoker  day    time  size\n",
       "0       16.99  1.01  Female     No  Sun  Dinner     2\n",
       "1       10.34  1.66    Male     No  Sun  Dinner     3\n",
       "2       21.01  3.50    Male     No  Sun  Dinner     3\n",
       "3       23.68  3.31    Male     No  Sun  Dinner     2\n",
       "4       24.59  3.61  Female     No  Sun  Dinner     4"
      ]
     },
     "execution_count": 5,
     "metadata": {},
     "output_type": "execute_result"
    }
   ],
   "source": [
    "df.head()"
   ]
  },
  {
   "cell_type": "code",
   "execution_count": 6,
   "id": "8732ccb1",
   "metadata": {},
   "outputs": [
    {
     "data": {
      "text/plain": [
       "['Female', 'Male']\n",
       "Categories (2, object): ['Male', 'Female']"
      ]
     },
     "execution_count": 6,
     "metadata": {},
     "output_type": "execute_result"
    }
   ],
   "source": [
    "df['sex'].unique()"
   ]
  },
  {
   "cell_type": "code",
   "execution_count": 7,
   "id": "1358fa6f",
   "metadata": {},
   "outputs": [
    {
     "data": {
      "text/plain": [
       "['Dinner', 'Lunch']\n",
       "Categories (2, object): ['Lunch', 'Dinner']"
      ]
     },
     "execution_count": 7,
     "metadata": {},
     "output_type": "execute_result"
    }
   ],
   "source": [
    "df['time'].unique()"
   ]
  },
  {
   "cell_type": "markdown",
   "id": "1079744f",
   "metadata": {},
   "source": [
    "# Check Relation is or not between sex and time columnS:"
   ]
  },
  {
   "cell_type": "markdown",
   "id": "97cb7a9e",
   "metadata": {},
   "source": [
    "first create observation table"
   ]
  },
  {
   "cell_type": "code",
   "execution_count": 8,
   "id": "4dc021df",
   "metadata": {},
   "outputs": [],
   "source": [
    "obs_table = pd.crosstab(df['sex'],df['time'])"
   ]
  },
  {
   "cell_type": "code",
   "execution_count": 11,
   "id": "39d4ae65",
   "metadata": {},
   "outputs": [
    {
     "data": {
      "text/plain": [
       "array([[ 33, 124],\n",
       "       [ 35,  52]], dtype=int64)"
      ]
     },
     "execution_count": 11,
     "metadata": {},
     "output_type": "execute_result"
    }
   ],
   "source": [
    "obs_table.values"
   ]
  },
  {
   "cell_type": "markdown",
   "id": "1b2e2921",
   "metadata": {},
   "source": [
    "# Returns\n",
    "chi2 : float The test statistic. p : float The p-value of the test dof : int Degrees of freedom expected : ndarray, same shape as observed The expected frequencies, based on the marginal sums of the table."
   ]
  },
  {
   "cell_type": "code",
   "execution_count": 13,
   "id": "31eb088d",
   "metadata": {},
   "outputs": [],
   "source": [
    "import scipy.stats as st"
   ]
  },
  {
   "cell_type": "code",
   "execution_count": 23,
   "id": "208eb3a4",
   "metadata": {},
   "outputs": [],
   "source": [
    "chi_value , p_value, ddof, expected_table = st.chi2_contingency(obs_table)"
   ]
  },
  {
   "cell_type": "code",
   "execution_count": 26,
   "id": "22f51add",
   "metadata": {},
   "outputs": [
    {
     "name": "stdout",
     "output_type": "stream",
     "text": [
      "9.343808982970623\n",
      "0.002237400118075248\n",
      "1\n",
      "[[ 43.75409836 113.24590164]\n",
      " [ 24.24590164  62.75409836]]\n"
     ]
    }
   ],
   "source": [
    "print(chi_value)\n",
    "print(p_value)\n",
    "print(ddof)\n",
    "print(expected_table)"
   ]
  },
  {
   "cell_type": "code",
   "execution_count": 25,
   "id": "27823cd8",
   "metadata": {},
   "outputs": [
    {
     "name": "stdout",
     "output_type": "stream",
     "text": [
      "There is no relationship between sex and time\n"
     ]
    }
   ],
   "source": [
    "alpha=0.05\n",
    "if p_value<alpha:\n",
    "    print(\"There is no relationship between sex and time\")\n",
    "else:\n",
    "    print(\"Relation between sex and time\")"
   ]
  },
  {
   "cell_type": "markdown",
   "id": "84975823",
   "metadata": {},
   "source": [
    "# "
   ]
  },
  {
   "cell_type": "markdown",
   "id": "d7ef0313",
   "metadata": {},
   "source": [
    "# "
   ]
  },
  {
   "cell_type": "markdown",
   "id": "5ba898ee",
   "metadata": {},
   "source": [
    "# "
   ]
  },
  {
   "cell_type": "markdown",
   "id": "2427950a",
   "metadata": {},
   "source": [
    "# "
   ]
  },
  {
   "cell_type": "markdown",
   "id": "32458b29",
   "metadata": {},
   "source": [
    "# Check Relation between sex or smoker"
   ]
  },
  {
   "cell_type": "code",
   "execution_count": 19,
   "id": "643be784",
   "metadata": {},
   "outputs": [],
   "source": [
    "obs_table1 = pd.crosstab(df['sex'],df['smoker'])"
   ]
  },
  {
   "cell_type": "code",
   "execution_count": 28,
   "id": "6027f89c",
   "metadata": {},
   "outputs": [],
   "source": [
    "chi_value, p_value, ddof, expected_table = st.chi2_contingency(obs_table1)"
   ]
  },
  {
   "cell_type": "code",
   "execution_count": 29,
   "id": "1b505b46",
   "metadata": {},
   "outputs": [
    {
     "name": "stdout",
     "output_type": "stream",
     "text": [
      "0.0\n",
      "1.0\n",
      "1\n",
      "[[59.84016393 97.15983607]\n",
      " [33.15983607 53.84016393]]\n"
     ]
    }
   ],
   "source": [
    "print(chi_value)\n",
    "print(p_value)\n",
    "print(ddof)\n",
    "print(expected_table)"
   ]
  },
  {
   "cell_type": "code",
   "execution_count": 30,
   "id": "60f04970",
   "metadata": {},
   "outputs": [
    {
     "name": "stdout",
     "output_type": "stream",
     "text": [
      "Relation between sex and time\n"
     ]
    }
   ],
   "source": [
    "alpha=0.05\n",
    "if p_value<alpha:\n",
    "    print(\"There is no relationship between sex and time\")\n",
    "else:\n",
    "    print(\"Relation between sex and time\")"
   ]
  },
  {
   "cell_type": "markdown",
   "id": "c0d61b2c",
   "metadata": {},
   "source": [
    "# "
   ]
  },
  {
   "cell_type": "markdown",
   "id": "f14340e6",
   "metadata": {},
   "source": [
    "# "
   ]
  },
  {
   "cell_type": "markdown",
   "id": "cf382af9",
   "metadata": {},
   "source": [
    "# "
   ]
  },
  {
   "cell_type": "markdown",
   "id": "658cdf85",
   "metadata": {},
   "source": [
    "# "
   ]
  },
  {
   "cell_type": "code",
   "execution_count": null,
   "id": "ff02348f",
   "metadata": {},
   "outputs": [],
   "source": []
  },
  {
   "cell_type": "code",
   "execution_count": null,
   "id": "e7ea6346",
   "metadata": {},
   "outputs": [],
   "source": []
  },
  {
   "cell_type": "code",
   "execution_count": null,
   "id": "d9f33c35",
   "metadata": {},
   "outputs": [],
   "source": []
  },
  {
   "cell_type": "code",
   "execution_count": null,
   "id": "528e339e",
   "metadata": {},
   "outputs": [],
   "source": []
  },
  {
   "cell_type": "code",
   "execution_count": null,
   "id": "14b95087",
   "metadata": {},
   "outputs": [],
   "source": []
  },
  {
   "cell_type": "code",
   "execution_count": null,
   "id": "39e74f75",
   "metadata": {},
   "outputs": [],
   "source": []
  },
  {
   "cell_type": "code",
   "execution_count": null,
   "id": "4429137a",
   "metadata": {},
   "outputs": [],
   "source": []
  },
  {
   "cell_type": "code",
   "execution_count": null,
   "id": "802f0265",
   "metadata": {},
   "outputs": [],
   "source": []
  },
  {
   "cell_type": "code",
   "execution_count": null,
   "id": "a7ae83cb",
   "metadata": {},
   "outputs": [],
   "source": []
  },
  {
   "cell_type": "code",
   "execution_count": null,
   "id": "346f209b",
   "metadata": {},
   "outputs": [],
   "source": []
  },
  {
   "cell_type": "code",
   "execution_count": null,
   "id": "02559b57",
   "metadata": {},
   "outputs": [],
   "source": []
  },
  {
   "cell_type": "code",
   "execution_count": null,
   "id": "83f0b1d5",
   "metadata": {},
   "outputs": [],
   "source": []
  },
  {
   "cell_type": "code",
   "execution_count": null,
   "id": "7780ff4b",
   "metadata": {},
   "outputs": [],
   "source": []
  },
  {
   "cell_type": "code",
   "execution_count": null,
   "id": "68c351de",
   "metadata": {},
   "outputs": [],
   "source": []
  },
  {
   "cell_type": "code",
   "execution_count": null,
   "id": "2f3fe7d7",
   "metadata": {},
   "outputs": [],
   "source": []
  },
  {
   "cell_type": "code",
   "execution_count": null,
   "id": "03e89ab1",
   "metadata": {},
   "outputs": [],
   "source": []
  },
  {
   "cell_type": "code",
   "execution_count": null,
   "id": "12e4f540",
   "metadata": {},
   "outputs": [],
   "source": []
  },
  {
   "cell_type": "code",
   "execution_count": null,
   "id": "fa3e72d4",
   "metadata": {},
   "outputs": [],
   "source": []
  },
  {
   "cell_type": "code",
   "execution_count": null,
   "id": "a8df7b30",
   "metadata": {},
   "outputs": [],
   "source": []
  },
  {
   "cell_type": "code",
   "execution_count": null,
   "id": "710c7fd5",
   "metadata": {},
   "outputs": [],
   "source": []
  },
  {
   "cell_type": "code",
   "execution_count": null,
   "id": "63ed55e2",
   "metadata": {},
   "outputs": [],
   "source": []
  },
  {
   "cell_type": "code",
   "execution_count": null,
   "id": "4a1bd37d",
   "metadata": {},
   "outputs": [],
   "source": []
  }
 ],
 "metadata": {
  "kernelspec": {
   "display_name": "Python 3 (ipykernel)",
   "language": "python",
   "name": "python3"
  },
  "language_info": {
   "codemirror_mode": {
    "name": "ipython",
    "version": 3
   },
   "file_extension": ".py",
   "mimetype": "text/x-python",
   "name": "python",
   "nbconvert_exporter": "python",
   "pygments_lexer": "ipython3",
   "version": "3.10.2"
  }
 },
 "nbformat": 4,
 "nbformat_minor": 5
}
